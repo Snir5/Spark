{
 "cells": [
  {
   "cell_type": "code",
   "execution_count": 402,
   "id": "4007ee47",
   "metadata": {},
   "outputs": [],
   "source": [
    "from pyspark.sql import SparkSession\n",
    "spark = SparkSession.builder.appName(\"LoadCSV\").getOrCreate()\n",
    "from pyspark.sql import Window\n",
    "from pyspark.sql.functions import avg\n",
    "from pyspark.sql.functions import col, lit\n"
   ]
  },
  {
   "cell_type": "code",
   "execution_count": 403,
   "id": "18fea348",
   "metadata": {},
   "outputs": [],
   "source": [
    "df = spark.read.csv('dataset.csv',\n",
    "                   sep = ',',\n",
    "                   header = True,\n",
    "                   quote = '',\n",
    "                   inferSchema = True #Automatically defines the type of the schema\n",
    "                   )"
   ]
  },
  {
   "cell_type": "code",
   "execution_count": 404,
   "id": "909ba490",
   "metadata": {},
   "outputs": [
    {
     "name": "stdout",
     "output_type": "stream",
     "text": [
      "root\n",
      " |-- age: integer (nullable = true)\n",
      " |-- Occupation: integer (nullable = true)\n",
      " |-- purchase_1: integer (nullable = true)\n",
      " |-- purchase_2: integer (nullable = true)\n",
      " |-- purchase_3: integer (nullable = true)\n",
      " |-- purchase_4: integer (nullable = true)\n",
      " |-- purchase_5: integer (nullable = true)\n",
      "\n"
     ]
    }
   ],
   "source": [
    "df.printSchema()"
   ]
  },
  {
   "cell_type": "code",
   "execution_count": 405,
   "id": "a2998121",
   "metadata": {},
   "outputs": [
    {
     "name": "stdout",
     "output_type": "stream",
     "text": [
      "+---+----------+----------+----------+----------+----------+----------+\n",
      "|age|Occupation|purchase_1|purchase_2|purchase_3|purchase_4|purchase_5|\n",
      "+---+----------+----------+----------+----------+----------+----------+\n",
      "| 52|        19|      3041|       532|       183|     21835|     12338|\n",
      "| 53|         6|      3052|      3999|       872|      8704|     10117|\n",
      "| 20|         8|      3466|      8520|       138|     18532|      5271|\n",
      "| 50|         2|      1062|       524|      1677|     22875|      4637|\n",
      "| 55|         8|      1416|      4021|      1358|     10176|      8943|\n",
      "+---+----------+----------+----------+----------+----------+----------+\n",
      "only showing top 5 rows\n",
      "\n"
     ]
    }
   ],
   "source": [
    "df.show(5)"
   ]
  },
  {
   "cell_type": "markdown",
   "id": "d163e767",
   "metadata": {},
   "source": [
    "# Question 1"
   ]
  },
  {
   "cell_type": "markdown",
   "id": "170da8c7",
   "metadata": {},
   "source": [
    "Find the average of the purchases (1 – till 5)"
   ]
  },
  {
   "cell_type": "code",
   "execution_count": 406,
   "id": "d833dcb9",
   "metadata": {},
   "outputs": [
    {
     "name": "stdout",
     "output_type": "stream",
     "text": [
      "+-------+------------------+-----------------+------------------+-----------------+------------------+\n",
      "|summary|        purchase_1|       purchase_2|        purchase_3|       purchase_4|        purchase_5|\n",
      "+-------+------------------+-----------------+------------------+-----------------+------------------+\n",
      "|  count|             21001|            21001|             21001|            21001|             21001|\n",
      "|   mean| 2505.573639350507|5027.339555259274|1248.7371553735536|12457.99985714966|7496.7633446026375|\n",
      "| stddev|1441.4610097028874|2872.855810742304| 724.9649386299643|7222.963503678821| 4319.169116931873|\n",
      "|    min|                 0|                0|                 0|                2|                 0|\n",
      "|    max|              5000|            10000|              2500|            24999|             15000|\n",
      "+-------+------------------+-----------------+------------------+-----------------+------------------+\n",
      "\n"
     ]
    }
   ],
   "source": [
    "df.describe('purchase_1','purchase_2','purchase_3','purchase_4','purchase_5').show()"
   ]
  },
  {
   "cell_type": "markdown",
   "id": "96b932c1",
   "metadata": {},
   "source": [
    "# Question 2"
   ]
  },
  {
   "cell_type": "markdown",
   "id": "e2748b4e",
   "metadata": {},
   "source": [
    "How many buyers between age 20-22 AND 30-34 AND 47-50 "
   ]
  },
  {
   "cell_type": "code",
   "execution_count": 407,
   "id": "7de7b1d0",
   "metadata": {},
   "outputs": [
    {
     "data": {
      "text/plain": [
       "4604"
      ]
     },
     "execution_count": 407,
     "metadata": {},
     "output_type": "execute_result"
    }
   ],
   "source": [
    "df.filter(((df.age>=20) & (df.age<=22)) | ((df.age>=30) & (df.age<=34)) | ((df.age>=47) & (df.age<=50))).count()               # Age between 30 to 35"
   ]
  },
  {
   "cell_type": "code",
   "execution_count": 408,
   "id": "a6a99d60",
   "metadata": {},
   "outputs": [
    {
     "name": "stdout",
     "output_type": "stream",
     "text": [
      "+---+----------+----------+----------+----------+----------+----------+\n",
      "|age|Occupation|purchase_1|purchase_2|purchase_3|purchase_4|purchase_5|\n",
      "+---+----------+----------+----------+----------+----------+----------+\n",
      "| 20|         8|      3466|      8520|       138|     18532|      5271|\n",
      "| 50|         2|      1062|       524|      1677|     22875|      4637|\n",
      "| 47|        15|      3625|      3929|        86|     14172|      2624|\n",
      "| 32|        18|      2939|      1552|      1750|     11543|       825|\n",
      "| 31|        15|       840|      9348|      1703|      4073|      1668|\n",
      "+---+----------+----------+----------+----------+----------+----------+\n",
      "only showing top 5 rows\n",
      "\n"
     ]
    }
   ],
   "source": [
    "df.filter(((df.age>=20) & (df.age<=22)) | ((df.age>=30) & (df.age<=34)) | ((df.age>=47) & (df.age<=50))).show(5)   "
   ]
  },
  {
   "cell_type": "markdown",
   "id": "68afe377",
   "metadata": {},
   "source": [
    "# Question 3"
   ]
  },
  {
   "cell_type": "markdown",
   "id": "ee9c9062",
   "metadata": {},
   "source": [
    "What AGE has the max average purchases (1 – till 5) "
   ]
  },
  {
   "cell_type": "code",
   "execution_count": 409,
   "id": "08ca041b",
   "metadata": {},
   "outputs": [
    {
     "name": "stdout",
     "output_type": "stream",
     "text": [
      "+---+------------------+\n",
      "|age|      avg(rec_avg)|\n",
      "+---+------------------+\n",
      "| 65|23973.389629629655|\n",
      "+---+------------------+\n",
      "only showing top 1 row\n",
      "\n"
     ]
    }
   ],
   "source": [
    "df_Question3_1 = df.withColumn( 'rec_avg' , \n",
    "                     df['purchase_1'] +\n",
    "                     df['purchase_2'] +\n",
    "                     df['purchase_3'] +\n",
    "                     df['purchase_4'] +\n",
    "                     df['purchase_5'] / 5)\n",
    "\n",
    "    \n",
    "df_Question3_2 = df_Question3_1.groupby('age').agg({\n",
    "                       'rec_avg': 'avg'\n",
    "                       })\n",
    "\n",
    "df_Question3_3 = df_Question3_2.sort(col(\"avg(rec_avg)\").desc()).show(1)\n",
    "\n"
   ]
  },
  {
   "cell_type": "markdown",
   "id": "5f2c02ad",
   "metadata": {},
   "source": [
    "# Question 4"
   ]
  },
  {
   "cell_type": "markdown",
   "id": "f37c575a",
   "metadata": {},
   "source": [
    "What is the purchase averages (1 till 5) per Occupation?"
   ]
  },
  {
   "cell_type": "code",
   "execution_count": 410,
   "id": "0a130c5d",
   "metadata": {},
   "outputs": [
    {
     "name": "stdout",
     "output_type": "stream",
     "text": [
      "+----------+------------------+\n",
      "|Occupation|      avg(rec_avg)|\n",
      "+----------+------------------+\n",
      "|         1|22762.597268292684|\n",
      "|         2|22885.342300556596|\n",
      "|         3|22790.268996415743|\n",
      "|         4| 22653.15859519406|\n",
      "|         5|22577.990666666683|\n",
      "|         6|22740.546080305885|\n",
      "|         7|22377.395539033467|\n",
      "|         8|23165.312331406552|\n",
      "|         9|22753.421353670183|\n",
      "|        10|23025.979651162816|\n",
      "|        11|22897.927326150824|\n",
      "|        12| 22109.87526066354|\n",
      "|        13|22634.039519852246|\n",
      "|        14|23195.895660749487|\n",
      "|        15|22895.525883476635|\n",
      "|        16| 22727.51117589891|\n",
      "|        17|22584.395829383848|\n",
      "|        18| 22736.86441351893|\n",
      "|        19| 22395.07851314593|\n",
      "|        20|22940.695381526086|\n",
      "+----------+------------------+\n",
      "\n"
     ]
    }
   ],
   "source": [
    "df_Question4_1 = df.withColumn( 'rec_avg' , \n",
    "                     df['purchase_1'] +\n",
    "                     df['purchase_2'] +\n",
    "                     df['purchase_3'] +\n",
    "                     df['purchase_4'] +\n",
    "                     df['purchase_5'] / 5)\n",
    "\n",
    "    \n",
    "df_Question4_2 = df1.groupby('Occupation').agg({\n",
    "                       'rec_avg': 'avg'\n",
    "                       }).sort(col(\"Occupation\").asc()).show()\n",
    "\n"
   ]
  },
  {
   "cell_type": "markdown",
   "id": "aafbee61",
   "metadata": {},
   "source": [
    "# Question 5"
   ]
  },
  {
   "cell_type": "markdown",
   "id": "547f9a04",
   "metadata": {},
   "source": [
    "What are the min & max purchases, per Occupation per age?"
   ]
  },
  {
   "cell_type": "code",
   "execution_count": 411,
   "id": "d46d1d26",
   "metadata": {},
   "outputs": [
    {
     "name": "stdout",
     "output_type": "stream",
     "text": [
      "+---+----------+----------------+\n",
      "|age|Occupation|sum(rec_max_min)|\n",
      "+---+----------+----------------+\n",
      "| 59|        17|          203045|\n",
      "+---+----------+----------------+\n",
      "only showing top 1 row\n",
      "\n",
      "+---+----------+----------------+\n",
      "|age|Occupation|sum(rec_max_min)|\n",
      "+---+----------+----------------+\n",
      "| 29|         3|          953283|\n",
      "+---+----------+----------------+\n",
      "only showing top 1 row\n",
      "\n"
     ]
    }
   ],
   "source": [
    "df_Question5_1 = df.withColumn( 'rec_max_min' , \n",
    "                     df['purchase_1'] +\n",
    "                     df['purchase_2'] +\n",
    "                     df['purchase_3'] +\n",
    "                     df['purchase_4'] +\n",
    "                     df['purchase_5'])\n",
    "\n",
    "    \n",
    "df_Question5_2_min = df_Question5_1.groupby('age','Occupation').agg({\n",
    "                       'rec_max_min': 'sum',\n",
    "                       }).sort(col(\"sum(rec_max_min)\").asc()).show(1)\n",
    "\n",
    "\n",
    "\n",
    "df_Question5_2_max = df_Question5_1.groupby('age','Occupation').agg({\n",
    "                       'rec_max_min': 'sum',\n",
    "                       }).sort(col(\"sum(rec_max_min)\").desc()).show(1)\n",
    "\n"
   ]
  },
  {
   "cell_type": "markdown",
   "id": "21790ad9",
   "metadata": {},
   "source": [
    "# Question 6"
   ]
  },
  {
   "cell_type": "markdown",
   "id": "d64c1ce7",
   "metadata": {},
   "source": [
    "How many buyers between ages 40-47 buy @purchase3 more than 2,200 and purchase4 less than 1,000 and purchase5 between 10,000-11,500?"
   ]
  },
  {
   "cell_type": "code",
   "execution_count": 412,
   "id": "c7ab94a2",
   "metadata": {},
   "outputs": [
    {
     "data": {
      "text/plain": [
       "6"
      ]
     },
     "execution_count": 412,
     "metadata": {},
     "output_type": "execute_result"
    }
   ],
   "source": [
    "df.filter((df.age>=40) &\n",
    "          (df.age>=47) &\n",
    "          (df.purchase_3>2200) &\n",
    "          (df.purchase_4 <1000)  &\n",
    "          (df.purchase_5 >=10000)  &\n",
    "          (df.purchase_5 <=11500)).count()       "
   ]
  },
  {
   "cell_type": "markdown",
   "id": "5b2f2959",
   "metadata": {},
   "source": [
    "# Question 7"
   ]
  },
  {
   "cell_type": "markdown",
   "id": "33ff365e",
   "metadata": {},
   "source": [
    "What is the max purchase (1 till 5) per age?"
   ]
  },
  {
   "cell_type": "code",
   "execution_count": 413,
   "id": "3b526b84",
   "metadata": {},
   "outputs": [
    {
     "name": "stdout",
     "output_type": "stream",
     "text": [
      "+---+---------------+---------------+---------------+---------------+---------------+\n",
      "|age|max(purchase_3)|max(purchase_2)|max(purchase_5)|max(purchase_1)|max(purchase_4)|\n",
      "+---+---------------+---------------+---------------+---------------+---------------+\n",
      "| 16|           2495|           9985|          14773|           4983|          24909|\n",
      "| 17|           2493|           9968|          14953|           4990|          24999|\n",
      "| 18|           2500|           9997|          14969|           4991|          24975|\n",
      "| 19|           2495|           9994|          15000|           4991|          24901|\n",
      "| 20|           2497|           9984|          14985|           5000|          24924|\n",
      "| 21|           2494|           9984|          14994|           4997|          24952|\n",
      "| 22|           2497|           9999|          14983|           4984|          24994|\n",
      "| 23|           2497|           9983|          14967|           4992|          24967|\n",
      "| 24|           2493|           9973|          14995|           4992|          24959|\n",
      "| 25|           2497|           9999|          14970|           4989|          24959|\n",
      "| 26|           2499|           9993|          14994|           4982|          24983|\n",
      "| 27|           2500|           9975|          14943|           4936|          24757|\n",
      "| 28|           2496|           9991|          14969|           4987|          24940|\n",
      "| 29|           2500|           9988|          14927|           4973|          24974|\n",
      "| 30|           2495|           9991|          14995|           4983|          24913|\n",
      "| 31|           2497|           9988|          14964|           4995|          24901|\n",
      "| 32|           2487|           9943|          14994|           4999|          24994|\n",
      "| 33|           2500|           9982|          14981|           4992|          24957|\n",
      "| 34|           2496|           9997|          14958|           4998|          24996|\n",
      "| 35|           2500|           9992|          14969|           4993|          24787|\n",
      "| 36|           2494|           9998|          14990|           4994|          24880|\n",
      "| 37|           2497|           9980|          14971|           4982|          24856|\n",
      "| 38|           2463|           9991|          14966|           4981|          24971|\n",
      "| 39|           2492|           9998|          14935|           4956|          24989|\n",
      "| 40|           2484|           9992|          14917|           4986|          24998|\n",
      "| 41|           2492|           9993|          14985|           4984|          24993|\n",
      "| 42|           2492|           9999|          14940|           4982|          24972|\n",
      "| 43|           2495|           9976|          14979|           4999|          24995|\n",
      "| 44|           2499|           9994|          14900|           4971|          24910|\n",
      "| 45|           2490|           9980|          14994|           4996|          24965|\n",
      "| 46|           2500|           9999|          14993|           4999|          24997|\n",
      "| 47|           2500|           9999|          14996|           4986|          24921|\n",
      "| 48|           2497|           9959|          14890|           4998|          24931|\n",
      "| 49|           2499|           9991|          14934|           4997|          24994|\n",
      "| 50|           2489|           9992|          14988|           4996|          24992|\n",
      "| 51|           2497|           9967|          14956|           4988|          24945|\n",
      "| 52|           2489|          10000|          14978|           4985|          24933|\n",
      "| 53|           2498|          10000|          14904|           4992|          24927|\n",
      "| 54|           2486|           9967|          14985|           4979|          24992|\n",
      "| 55|           2483|           9972|          14894|           4987|          24966|\n",
      "| 56|           2498|           9951|          14700|           4983|          24981|\n",
      "| 57|           2494|           9999|          14969|           4983|          24897|\n",
      "| 58|           2494|           9992|          14986|           4991|          24866|\n",
      "| 59|           2493|           9955|          14976|           4993|          24966|\n",
      "| 60|           2476|           9994|          14949|           4991|          24803|\n",
      "| 61|           2489|           9952|          14955|           4994|          24999|\n",
      "| 62|           2491|           9946|          14943|           4994|          24916|\n",
      "| 63|           2499|           9950|          14947|           4970|          24927|\n",
      "| 64|           2493|           9895|          15000|           4986|          24797|\n",
      "| 65|           2487|           9996|          14947|           4990|          24886|\n",
      "| 66|           2496|           9973|          14987|           4970|          24993|\n",
      "| 67|           2499|           9942|          14974|           4994|          24907|\n",
      "| 68|           2499|           9985|          14976|           4992|          24904|\n",
      "| 69|           2489|           9997|          14831|           4987|          24866|\n",
      "| 70|           2499|           9995|          14996|           4996|          24982|\n",
      "+---+---------------+---------------+---------------+---------------+---------------+\n",
      "\n"
     ]
    }
   ],
   "source": [
    "df_Question7_3 = df.groupby('age').agg({\n",
    "                     'purchase_1': 'max',\n",
    "                     'purchase_2': 'max', \n",
    "                     'purchase_3': 'max',\n",
    "                     'purchase_4': 'max',\n",
    "                     'purchase_5': 'max'\n",
    "                       }).sort(col(\"age\").asc()).show(55)"
   ]
  },
  {
   "cell_type": "code",
   "execution_count": null,
   "id": "5748a46c",
   "metadata": {},
   "outputs": [],
   "source": []
  }
 ],
 "metadata": {
  "kernelspec": {
   "display_name": "Python 3 (ipykernel)",
   "language": "python",
   "name": "python3"
  },
  "language_info": {
   "codemirror_mode": {
    "name": "ipython",
    "version": 3
   },
   "file_extension": ".py",
   "mimetype": "text/x-python",
   "name": "python",
   "nbconvert_exporter": "python",
   "pygments_lexer": "ipython3",
   "version": "3.9.7"
  }
 },
 "nbformat": 4,
 "nbformat_minor": 5
}
