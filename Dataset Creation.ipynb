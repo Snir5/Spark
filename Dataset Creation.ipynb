{
 "cells": [
  {
   "cell_type": "code",
   "execution_count": 102,
   "id": "3eeeeaad",
   "metadata": {},
   "outputs": [],
   "source": [
    "import numpy as np\n",
    "import pandas as pd"
   ]
  },
  {
   "cell_type": "code",
   "execution_count": 103,
   "id": "30b781b4",
   "metadata": {},
   "outputs": [],
   "source": [
    "#Create Pandas DataFrame\n",
    "\n",
    "df = pd.DataFrame({\n",
    "                   'age': np.random.randint(low = 16, high = 71, size=21001, dtype=int),\n",
    "                   'Occupation': np.random.randint(low = 1, high = 21, size=21001, dtype=int),\n",
    "                   'purchase_1': np.random.randint(low = 0, high = 5001, size=21001, dtype=int),\n",
    "                   'purchase_2': np.random.randint(low = 0, high = 10001, size=21001, dtype=int),\n",
    "                   'purchase_3': np.random.randint(low = 0, high = 2501, size=21001, dtype=int),\n",
    "                   'purchase_4': np.random.randint(low = 0, high = 25001, size=21001, dtype=int),\n",
    "                   'purchase_5': np.random.randint(low = 0, high = 15001, size=21001, dtype=int),\n",
    "                  })\n",
    "\n"
   ]
  },
  {
   "cell_type": "code",
   "execution_count": 104,
   "id": "c7e70108",
   "metadata": {},
   "outputs": [],
   "source": [
    "# Saving as a csv file\n",
    "\n",
    "df.to_csv(r'C:\\Users\\snirt\\Desktop\\מסמכים\\לימודים שנקר\\2022\\סמסטר ב\\Big Data\\עבודת הגשה מס 2\\dataset.csv', index=False)"
   ]
  }
 ],
 "metadata": {
  "kernelspec": {
   "display_name": "Python 3 (ipykernel)",
   "language": "python",
   "name": "python3"
  },
  "language_info": {
   "codemirror_mode": {
    "name": "ipython",
    "version": 3
   },
   "file_extension": ".py",
   "mimetype": "text/x-python",
   "name": "python",
   "nbconvert_exporter": "python",
   "pygments_lexer": "ipython3",
   "version": "3.9.7"
  }
 },
 "nbformat": 4,
 "nbformat_minor": 5
}
