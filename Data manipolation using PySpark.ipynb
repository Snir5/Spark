{
 "cells": [
  {
   "cell_type": "code",
   "execution_count": 3,
   "id": "f5193b66",
   "metadata": {},
   "outputs": [],
   "source": [
    "from pyspark.sql import SparkSession\n",
    "spark = SparkSession.builder.appName(\"LoadCSV\").getOrCreate()\n",
    "from pyspark.sql import Window\n",
    "from pyspark.sql.functions import *"
   ]
  },
  {
   "cell_type": "code",
   "execution_count": 4,
   "id": "3105a7fd",
   "metadata": {},
   "outputs": [],
   "source": [
    "df = spark.read.csv('dataset.csv',\n",
    "                   sep = ',',\n",
    "                   header = True,\n",
    "                   quote = '',\n",
    "                   inferSchema = True #Automatically defines the type of the schema\n",
    "                   )"
   ]
  },
  {
   "cell_type": "code",
   "execution_count": 5,
   "id": "9dbfce88",
   "metadata": {},
   "outputs": [
    {
     "name": "stdout",
     "output_type": "stream",
     "text": [
      "root\n",
      " |-- age: integer (nullable = true)\n",
      " |-- Occupation: integer (nullable = true)\n",
      " |-- purchase_1: integer (nullable = true)\n",
      " |-- purchase_2: integer (nullable = true)\n",
      " |-- purchase_3: integer (nullable = true)\n",
      " |-- purchase_4: integer (nullable = true)\n",
      " |-- purchase_5: integer (nullable = true)\n",
      "\n"
     ]
    }
   ],
   "source": [
    "df.printSchema()"
   ]
  },
  {
   "cell_type": "code",
   "execution_count": 6,
   "id": "c7ed329a",
   "metadata": {},
   "outputs": [
    {
     "name": "stdout",
     "output_type": "stream",
     "text": [
      "+---+----------+----------+----------+----------+----------+----------+\n",
      "|age|Occupation|purchase_1|purchase_2|purchase_3|purchase_4|purchase_5|\n",
      "+---+----------+----------+----------+----------+----------+----------+\n",
      "| 52|        19|      3041|       532|       183|     21835|     12338|\n",
      "| 53|         6|      3052|      3999|       872|      8704|     10117|\n",
      "| 20|         8|      3466|      8520|       138|     18532|      5271|\n",
      "| 50|         2|      1062|       524|      1677|     22875|      4637|\n",
      "| 55|         8|      1416|      4021|      1358|     10176|      8943|\n",
      "+---+----------+----------+----------+----------+----------+----------+\n",
      "only showing top 5 rows\n",
      "\n"
     ]
    }
   ],
   "source": [
    "df.show(5)"
   ]
  },
  {
   "cell_type": "markdown",
   "id": "04a54124",
   "metadata": {},
   "source": [
    "# Question 1"
   ]
  },
  {
   "cell_type": "markdown",
   "id": "087209e2",
   "metadata": {},
   "source": [
    "Find the average of the purchases (1 – till 5)"
   ]
  },
  {
   "cell_type": "code",
   "execution_count": 7,
   "id": "f6730405",
   "metadata": {},
   "outputs": [
    {
     "name": "stdout",
     "output_type": "stream",
     "text": [
      "+-------+------------------+-----------------+------------------+-----------------+------------------+\n",
      "|summary|        purchase_1|       purchase_2|        purchase_3|       purchase_4|        purchase_5|\n",
      "+-------+------------------+-----------------+------------------+-----------------+------------------+\n",
      "|  count|             21001|            21001|             21001|            21001|             21001|\n",
      "|   mean| 2505.573639350507|5027.339555259274|1248.7371553735536|12457.99985714966|7496.7633446026375|\n",
      "| stddev|1441.4610097028874|2872.855810742304| 724.9649386299643|7222.963503678821| 4319.169116931873|\n",
      "|    min|                 0|                0|                 0|                2|                 0|\n",
      "|    max|              5000|            10000|              2500|            24999|             15000|\n",
      "+-------+------------------+-----------------+------------------+-----------------+------------------+\n",
      "\n"
     ]
    }
   ],
   "source": [
    "df.describe('purchase_1','purchase_2','purchase_3','purchase_4','purchase_5').show()"
   ]
  },
  {
   "cell_type": "markdown",
   "id": "f151d484",
   "metadata": {},
   "source": [
    "# Question 2"
   ]
  },
  {
   "cell_type": "markdown",
   "id": "dfdd6af6",
   "metadata": {},
   "source": [
    "How many buyers between age 20-22 AND 30-34 AND 47-50 "
   ]
  },
  {
   "cell_type": "code",
   "execution_count": 8,
   "id": "b3b80e35",
   "metadata": {},
   "outputs": [
    {
     "data": {
      "text/plain": [
       "4604"
      ]
     },
     "execution_count": 8,
     "metadata": {},
     "output_type": "execute_result"
    }
   ],
   "source": [
    "df.filter(((df.age>=20) & (df.age<=22)) | ((df.age>=30) & (df.age<=34)) | ((df.age>=47) & (df.age<=50))).count()               # Age between "
   ]
  },
  {
   "cell_type": "code",
   "execution_count": 9,
   "id": "a305ebed",
   "metadata": {},
   "outputs": [
    {
     "name": "stdout",
     "output_type": "stream",
     "text": [
      "+---+----------+----------+----------+----------+----------+----------+\n",
      "|age|Occupation|purchase_1|purchase_2|purchase_3|purchase_4|purchase_5|\n",
      "+---+----------+----------+----------+----------+----------+----------+\n",
      "| 20|         8|      3466|      8520|       138|     18532|      5271|\n",
      "| 50|         2|      1062|       524|      1677|     22875|      4637|\n",
      "| 47|        15|      3625|      3929|        86|     14172|      2624|\n",
      "| 32|        18|      2939|      1552|      1750|     11543|       825|\n",
      "| 31|        15|       840|      9348|      1703|      4073|      1668|\n",
      "+---+----------+----------+----------+----------+----------+----------+\n",
      "only showing top 5 rows\n",
      "\n"
     ]
    }
   ],
   "source": [
    "df.filter(((df.age>=20) & (df.age<=22)) | ((df.age>=30) & (df.age<=34)) | ((df.age>=47) & (df.age<=50))).show(5)   "
   ]
  },
  {
   "cell_type": "markdown",
   "id": "d6f88aaf",
   "metadata": {},
   "source": [
    "# Question 3"
   ]
  },
  {
   "cell_type": "markdown",
   "id": "39c2f3dd",
   "metadata": {},
   "source": [
    "What AGE has the max average purchases (1 – till 5) "
   ]
  },
  {
   "cell_type": "code",
   "execution_count": 10,
   "id": "00b84ed8",
   "metadata": {},
   "outputs": [
    {
     "name": "stdout",
     "output_type": "stream",
     "text": [
      "+---+------------+\n",
      "|age|max(rec_avg)|\n",
      "+---+------------+\n",
      "| 34|     10890.2|\n",
      "+---+------------+\n",
      "only showing top 1 row\n",
      "\n"
     ]
    }
   ],
   "source": [
    "df_Question3_1 = df.withColumn( 'rec_avg' , \n",
    "                     (df['purchase_1'] +\n",
    "                     df['purchase_2'] +\n",
    "                     df['purchase_3'] +\n",
    "                     df['purchase_4'] +\n",
    "                     df['purchase_5']) / 5)\n",
    "\n",
    "    \n",
    "df_Question3_2 = df_Question3_1.groupby('age').agg({\n",
    "                       'rec_avg': 'max'\n",
    "                       })\n",
    "\n",
    "df_Question3_3 = df_Question3_2.sort(col(\"max(rec_avg)\").desc()).show(1)\n",
    "\n"
   ]
  },
  {
   "cell_type": "markdown",
   "id": "7b55690d",
   "metadata": {},
   "source": [
    "# Question 4"
   ]
  },
  {
   "cell_type": "markdown",
   "id": "fe515c52",
   "metadata": {},
   "source": [
    "What is the purchase averages (1 till 5) per Occupation?"
   ]
  },
  {
   "cell_type": "code",
   "execution_count": 11,
   "id": "729c0374",
   "metadata": {},
   "outputs": [
    {
     "name": "stdout",
     "output_type": "stream",
     "text": [
      "+----------+------------------+\n",
      "|Occupation|      avg(rec_avg)|\n",
      "+----------+------------------+\n",
      "|         1| 5748.066146341469|\n",
      "|         2| 5779.394990723554|\n",
      "|         3|5752.9392473118305|\n",
      "|         4| 5753.337523105361|\n",
      "|         5| 5726.559047619042|\n",
      "|         6| 5750.322753346085|\n",
      "|         7|5669.5613382899555|\n",
      "|         8| 5817.084200385356|\n",
      "|         9| 5763.983794089614|\n",
      "|        10| 5814.509108527134|\n",
      "|        11| 5776.030362389815|\n",
      "|        12| 5611.849099526066|\n",
      "|        13| 5700.724653739605|\n",
      "|        14| 5883.002564102563|\n",
      "|        15|  5786.97421203439|\n",
      "|        16| 5744.028182701649|\n",
      "|        17|5713.5999999999985|\n",
      "|        18| 5742.624254473167|\n",
      "|        19| 5654.114596554853|\n",
      "|        20| 5773.070481927708|\n",
      "+----------+------------------+\n",
      "\n"
     ]
    }
   ],
   "source": [
    "df_Question4_1 = df.withColumn( 'rec_avg' , \n",
    "                     (df['purchase_1'] +\n",
    "                     df['purchase_2'] +\n",
    "                     df['purchase_3'] +\n",
    "                     df['purchase_4'] +\n",
    "                     df['purchase_5']) / 5)\n",
    "\n",
    "    \n",
    "df_Question4_2 = df_Question4_1.groupby('Occupation').agg({\n",
    "                       'rec_avg': 'avg'\n",
    "                       }).sort(col(\"Occupation\").asc()).show()\n",
    "\n"
   ]
  },
  {
   "cell_type": "markdown",
   "id": "34b47eaf",
   "metadata": {},
   "source": [
    "# Question 5"
   ]
  },
  {
   "cell_type": "markdown",
   "id": "835f10b2",
   "metadata": {},
   "source": [
    "What are the min & max purchases, per Occupation per age?"
   ]
  },
  {
   "cell_type": "code",
   "execution_count": 12,
   "id": "f24f401d",
   "metadata": {
    "scrolled": true
   },
   "outputs": [
    {
     "name": "stdout",
     "output_type": "stream",
     "text": [
      "+---+----------+--------------+--------------+--------------+--------------+--------------+\n",
      "|age|Occupation|purchase_1_min|purchase_2_min|purchase_3_min|purchase_4_min|purchase_5_min|\n",
      "+---+----------+--------------+--------------+--------------+--------------+--------------+\n",
      "| 16|         1|           515|           172|           139|           357|           143|\n",
      "| 16|         2|           516|           408|            88|            27|           953|\n",
      "| 16|         3|            58|           302|            58|           119|           599|\n",
      "| 16|         4|           148|           225|            11|          3449|           179|\n",
      "| 16|         5|            32|          1878|           144|          1397|           592|\n",
      "+---+----------+--------------+--------------+--------------+--------------+--------------+\n",
      "only showing top 5 rows\n",
      "\n",
      "+---+----------+--------------+--------------+--------------+--------------+--------------+\n",
      "|age|Occupation|purchase_1_max|purchase_2_max|purchase_3_max|purchase_4_max|purchase_5_max|\n",
      "+---+----------+--------------+--------------+--------------+--------------+--------------+\n",
      "| 16|         1|          4281|          9846|          2450|         23959|         14342|\n",
      "| 16|         2|          4820|          9985|          2340|         23653|         14287|\n",
      "| 16|         3|          4983|          9902|          2485|         24869|         14739|\n",
      "| 16|         4|          4651|          8493|          2254|         24373|         13723|\n",
      "| 16|         5|          4694|          9494|          2036|         20722|         14389|\n",
      "+---+----------+--------------+--------------+--------------+--------------+--------------+\n",
      "only showing top 5 rows\n",
      "\n"
     ]
    }
   ],
   "source": [
    "df.select('age','Occupation',(min('purchase_1').over(Window.partitionBy('age','Occupation'))).alias(\"purchase_1_min\"),\n",
    "                             (min('purchase_2').over(Window.partitionBy('age','Occupation'))).alias(\"purchase_2_min\"),\n",
    "                             (min('purchase_3').over(Window.partitionBy('age','Occupation'))).alias(\"purchase_3_min\"),\n",
    "                             (min('purchase_4').over(Window.partitionBy('age','Occupation'))).alias(\"purchase_4_min\"),\n",
    "                             (min('purchase_5').over(Window.partitionBy('age','Occupation'))).alias(\"purchase_5_min\")\n",
    "         ).distinct().show(5)\n",
    "                     \n",
    "                     \n",
    "df.select('age','Occupation',(max('purchase_1').over(Window.partitionBy('age','Occupation'))).alias(\"purchase_1_max\"),\n",
    "                             (max('purchase_2').over(Window.partitionBy('age','Occupation'))).alias(\"purchase_2_max\"),\n",
    "                             (max('purchase_3').over(Window.partitionBy('age','Occupation'))).alias(\"purchase_3_max\"),\n",
    "                             (max('purchase_4').over(Window.partitionBy('age','Occupation'))).alias(\"purchase_4_max\"),\n",
    "                             (max('purchase_5').over(Window.partitionBy('age','Occupation'))).alias(\"purchase_5_max\")\n",
    "         ).distinct().show(5)"
   ]
  },
  {
   "cell_type": "code",
   "execution_count": 13,
   "id": "e3a2216f",
   "metadata": {},
   "outputs": [
    {
     "name": "stdout",
     "output_type": "stream",
     "text": [
      "+---+----------+--------------+\n",
      "|age|Occupation| Max Purchase |\n",
      "+---+----------+--------------+\n",
      "| 16|         1|         23959|\n",
      "| 16|         2|         23653|\n",
      "| 16|         3|         24869|\n",
      "| 16|         4|         24373|\n",
      "| 16|         5|         20722|\n",
      "| 16|         6|         24476|\n",
      "| 16|         7|         20546|\n",
      "| 16|         8|         23332|\n",
      "| 16|         9|         24347|\n",
      "| 16|        10|         23814|\n",
      "| 16|        11|         23504|\n",
      "| 16|        12|         24747|\n",
      "| 16|        13|         23711|\n",
      "| 16|        14|         21888|\n",
      "| 16|        15|         24213|\n",
      "| 16|        16|         24764|\n",
      "| 16|        17|         22821|\n",
      "| 16|        18|         24859|\n",
      "| 16|        19|         24909|\n",
      "| 16|        20|         24409|\n",
      "+---+----------+--------------+\n",
      "only showing top 20 rows\n",
      "\n",
      "+---+----------+--------------+\n",
      "|age|Occupation| Min Purchase |\n",
      "+---+----------+--------------+\n",
      "| 16|         1|           139|\n",
      "| 16|         2|            27|\n",
      "| 16|         3|            58|\n",
      "| 16|         4|            11|\n",
      "| 16|         5|            32|\n",
      "| 16|         6|           128|\n",
      "| 16|         7|             3|\n",
      "| 16|         8|             9|\n",
      "| 16|         9|            16|\n",
      "| 16|        10|            17|\n",
      "| 16|        11|            87|\n",
      "| 16|        12|           103|\n",
      "| 16|        13|            22|\n",
      "| 16|        14|            38|\n",
      "| 16|        15|           125|\n",
      "| 16|        16|            41|\n",
      "| 16|        17|            36|\n",
      "| 16|        18|            52|\n",
      "| 16|        19|            30|\n",
      "| 16|        20|           281|\n",
      "+---+----------+--------------+\n",
      "only showing top 20 rows\n",
      "\n"
     ]
    }
   ],
   "source": [
    "df_Question5_1 = df.groupby('age','Occupation').agg({\n",
    "                     'purchase_1': 'max',\n",
    "                     'purchase_2': 'max', \n",
    "                     'purchase_3': 'max',\n",
    "                     'purchase_4': 'max',\n",
    "                     'purchase_5': 'max',\n",
    "                       }).sort(col('age'),col('Occupation').asc())\n",
    "\n",
    "\n",
    "df_Question5_2 = df.groupby('age','Occupation').agg({\n",
    "                     'purchase_1': 'min',\n",
    "                     'purchase_2': 'min', \n",
    "                     'purchase_3': 'min',\n",
    "                     'purchase_4': 'min',\n",
    "                     'purchase_5': 'min',\n",
    "                       }).sort(col('age'),col('Occupation').asc())\n",
    "\n",
    "\n",
    "df_Question5_1.select('age','Occupation',\n",
    "                     when((col('max(purchase_1)') >= col('max(purchase_2)'))& (col('max(purchase_1)') >= col('max(purchase_3)'))& (col('max(purchase_1)') >= col('max(purchase_4)'))& (col('max(purchase_1)') >= col('max(purchase_5)')), col('max(purchase_1)'))\n",
    "                    .when((col('max(purchase_2)') >= col('max(purchase_1)'))& (col('max(purchase_2)') >= col('max(purchase_3)'))& (col('max(purchase_2)') >= col('max(purchase_4)'))& (col('max(purchase_2)') >= col('max(purchase_5)')), col('max(purchase_2)'))\n",
    "                    .when((col('max(purchase_3)') >= col('max(purchase_1)'))& (col('max(purchase_3)') >= col('max(purchase_2)'))& (col('max(purchase_3)') >= col('max(purchase_4)'))& (col('max(purchase_3)') >= col('max(purchase_5)')), col('max(purchase_3)'))\n",
    "                    .when((col('max(purchase_4)') >= col('max(purchase_1)'))& (col('max(purchase_4)') >= col('max(purchase_2)'))& (col('max(purchase_4)') >= col('max(purchase_3)'))& (col('max(purchase_4)') >= col('max(purchase_5)')), col('max(purchase_4)'))                    \n",
    "                    .when((col('max(purchase_5)') >= col('max(purchase_1)'))& (col('max(purchase_5)') >= col('max(purchase_2)'))& (col('max(purchase_5)') >= col('max(purchase_3)'))& (col('max(purchase_5)') >= col('max(purchase_4)')), col('max(purchase_5)')).alias(\" Max Purchase \")).show()\n",
    "                      \n",
    "df_Question5_2.select('age','Occupation',                \n",
    "                     when((col('min(purchase_1)') <= col('min(purchase_2)'))& (col('min(purchase_1)') <= col('min(purchase_3)'))& (col('min(purchase_1)') <= col('min(purchase_4)'))& (col('min(purchase_1)') <= col('min(purchase_5)')), col('min(purchase_1)'))\n",
    "                    .when((col('min(purchase_2)') <= col('min(purchase_1)'))& (col('min(purchase_2)') <= col('min(purchase_3)'))& (col('min(purchase_2)') <= col('min(purchase_4)'))& (col('min(purchase_2)') <= col('min(purchase_5)')), col('min(purchase_2)'))\n",
    "                    .when((col('min(purchase_3)') <= col('min(purchase_1)'))& (col('min(purchase_3)') <= col('min(purchase_2)'))& (col('min(purchase_3)') <= col('min(purchase_4)'))& (col('min(purchase_3)') <= col('min(purchase_5)')), col('min(purchase_3)'))\n",
    "                    .when((col('min(purchase_4)') <= col('min(purchase_1)'))& (col('min(purchase_4)') <= col('min(purchase_2)'))& (col('min(purchase_4)') <= col('min(purchase_3)'))& (col('min(purchase_4)') <= col('min(purchase_5)')), col('min(purchase_4)'))                    \n",
    "                    .when((col('min(purchase_5)') <= col('min(purchase_1)'))& (col('min(purchase_5)') <= col('min(purchase_2)'))& (col('min(purchase_5)') <= col('min(purchase_3)'))& (col('min(purchase_5)') <= col('min(purchase_4)')), col('min(purchase_5)')).alias(\" Min Purchase \")).show()\n"
   ]
  },
  {
   "cell_type": "markdown",
   "id": "dc7eb478",
   "metadata": {},
   "source": [
    "# Question 6"
   ]
  },
  {
   "cell_type": "markdown",
   "id": "4b275ca4",
   "metadata": {},
   "source": [
    "How many buyers between ages 40-47 buy @purchase3 more than 2,200 and purchase4 less than 1,000 and purchase5 between 10,000-11,500?"
   ]
  },
  {
   "cell_type": "code",
   "execution_count": 14,
   "id": "3a08c660",
   "metadata": {},
   "outputs": [
    {
     "data": {
      "text/plain": [
       "6"
      ]
     },
     "execution_count": 14,
     "metadata": {},
     "output_type": "execute_result"
    }
   ],
   "source": [
    "df.filter((df.age>=40) &\n",
    "          (df.age>=47) &\n",
    "          (df.purchase_3>2200) &\n",
    "          (df.purchase_4 <1000)  &\n",
    "          (df.purchase_5 >=10000)  &\n",
    "          (df.purchase_5 <=11500)).count()       "
   ]
  },
  {
   "cell_type": "markdown",
   "id": "303bb218",
   "metadata": {},
   "source": [
    "# Question 7"
   ]
  },
  {
   "cell_type": "markdown",
   "id": "c0340b7f",
   "metadata": {},
   "source": [
    "What is the max purchase (1 till 5) per age?"
   ]
  },
  {
   "cell_type": "code",
   "execution_count": 15,
   "id": "85bdcb14",
   "metadata": {},
   "outputs": [
    {
     "name": "stdout",
     "output_type": "stream",
     "text": [
      "+---+---------------+---------------+---------------+---------------+---------------+\n",
      "|age|max(purchase_3)|max(purchase_2)|max(purchase_5)|max(purchase_1)|max(purchase_4)|\n",
      "+---+---------------+---------------+---------------+---------------+---------------+\n",
      "| 16|           2495|           9985|          14773|           4983|          24909|\n",
      "| 17|           2493|           9968|          14953|           4990|          24999|\n",
      "| 18|           2500|           9997|          14969|           4991|          24975|\n",
      "| 19|           2495|           9994|          15000|           4991|          24901|\n",
      "| 20|           2497|           9984|          14985|           5000|          24924|\n",
      "| 21|           2494|           9984|          14994|           4997|          24952|\n",
      "| 22|           2497|           9999|          14983|           4984|          24994|\n",
      "| 23|           2497|           9983|          14967|           4992|          24967|\n",
      "| 24|           2493|           9973|          14995|           4992|          24959|\n",
      "| 25|           2497|           9999|          14970|           4989|          24959|\n",
      "| 26|           2499|           9993|          14994|           4982|          24983|\n",
      "| 27|           2500|           9975|          14943|           4936|          24757|\n",
      "| 28|           2496|           9991|          14969|           4987|          24940|\n",
      "| 29|           2500|           9988|          14927|           4973|          24974|\n",
      "| 30|           2495|           9991|          14995|           4983|          24913|\n",
      "| 31|           2497|           9988|          14964|           4995|          24901|\n",
      "| 32|           2487|           9943|          14994|           4999|          24994|\n",
      "| 33|           2500|           9982|          14981|           4992|          24957|\n",
      "| 34|           2496|           9997|          14958|           4998|          24996|\n",
      "| 35|           2500|           9992|          14969|           4993|          24787|\n",
      "| 36|           2494|           9998|          14990|           4994|          24880|\n",
      "| 37|           2497|           9980|          14971|           4982|          24856|\n",
      "| 38|           2463|           9991|          14966|           4981|          24971|\n",
      "| 39|           2492|           9998|          14935|           4956|          24989|\n",
      "| 40|           2484|           9992|          14917|           4986|          24998|\n",
      "| 41|           2492|           9993|          14985|           4984|          24993|\n",
      "| 42|           2492|           9999|          14940|           4982|          24972|\n",
      "| 43|           2495|           9976|          14979|           4999|          24995|\n",
      "| 44|           2499|           9994|          14900|           4971|          24910|\n",
      "| 45|           2490|           9980|          14994|           4996|          24965|\n",
      "| 46|           2500|           9999|          14993|           4999|          24997|\n",
      "| 47|           2500|           9999|          14996|           4986|          24921|\n",
      "| 48|           2497|           9959|          14890|           4998|          24931|\n",
      "| 49|           2499|           9991|          14934|           4997|          24994|\n",
      "| 50|           2489|           9992|          14988|           4996|          24992|\n",
      "| 51|           2497|           9967|          14956|           4988|          24945|\n",
      "| 52|           2489|          10000|          14978|           4985|          24933|\n",
      "| 53|           2498|          10000|          14904|           4992|          24927|\n",
      "| 54|           2486|           9967|          14985|           4979|          24992|\n",
      "| 55|           2483|           9972|          14894|           4987|          24966|\n",
      "| 56|           2498|           9951|          14700|           4983|          24981|\n",
      "| 57|           2494|           9999|          14969|           4983|          24897|\n",
      "| 58|           2494|           9992|          14986|           4991|          24866|\n",
      "| 59|           2493|           9955|          14976|           4993|          24966|\n",
      "| 60|           2476|           9994|          14949|           4991|          24803|\n",
      "| 61|           2489|           9952|          14955|           4994|          24999|\n",
      "| 62|           2491|           9946|          14943|           4994|          24916|\n",
      "| 63|           2499|           9950|          14947|           4970|          24927|\n",
      "| 64|           2493|           9895|          15000|           4986|          24797|\n",
      "| 65|           2487|           9996|          14947|           4990|          24886|\n",
      "| 66|           2496|           9973|          14987|           4970|          24993|\n",
      "| 67|           2499|           9942|          14974|           4994|          24907|\n",
      "| 68|           2499|           9985|          14976|           4992|          24904|\n",
      "| 69|           2489|           9997|          14831|           4987|          24866|\n",
      "| 70|           2499|           9995|          14996|           4996|          24982|\n",
      "+---+---------------+---------------+---------------+---------------+---------------+\n",
      "\n"
     ]
    }
   ],
   "source": [
    "df_Question7_3 = df.groupby('age').agg({\n",
    "                     'purchase_1': 'max',\n",
    "                     'purchase_2': 'max', \n",
    "                     'purchase_3': 'max',\n",
    "                     'purchase_4': 'max',\n",
    "                     'purchase_5': 'max'\n",
    "                       }).sort(col(\"age\").asc()).show(55)"
   ]
  },
  {
   "cell_type": "markdown",
   "id": "1b5c7d4d",
   "metadata": {},
   "source": [
    "# Question 8"
   ]
  },
  {
   "cell_type": "code",
   "execution_count": null,
   "id": "6871e347",
   "metadata": {},
   "outputs": [],
   "source": []
  }
 ],
 "metadata": {
  "kernelspec": {
   "display_name": "Python 3 (ipykernel)",
   "language": "python",
   "name": "python3"
  },
  "language_info": {
   "codemirror_mode": {
    "name": "ipython",
    "version": 3
   },
   "file_extension": ".py",
   "mimetype": "text/x-python",
   "name": "python",
   "nbconvert_exporter": "python",
   "pygments_lexer": "ipython3",
   "version": "3.9.7"
  }
 },
 "nbformat": 4,
 "nbformat_minor": 5
}
